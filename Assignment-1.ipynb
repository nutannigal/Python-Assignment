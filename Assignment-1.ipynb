{
 "cells": [
  {
   "cell_type": "code",
   "execution_count": 2,
   "id": "89e6ac09",
   "metadata": {},
   "outputs": [
    {
     "name": "stdout",
     "output_type": "stream",
     "text": [
      "Enter the height:6\n",
      "Enter the Breadth:12\n",
      "Area of Triangle= 36.0\n"
     ]
    }
   ],
   "source": [
    "#Area of Triangle\n",
    "a=int(input(\"Enter the height:\"))\n",
    "b=int(input(\"Enter the Breadth:\"))\n",
    "c=0.5*a*b\n",
    "print(\"Area of Triangle=\",c)"
   ]
  },
  {
   "cell_type": "code",
   "execution_count": 3,
   "id": "7e7fa816",
   "metadata": {},
   "outputs": [
    {
     "name": "stdout",
     "output_type": "stream",
     "text": [
      "Enter  Number 1:5\n",
      "Enter Number 2:8\n",
      "Number 1= 8\n",
      "Number 2= 5\n"
     ]
    }
   ],
   "source": [
    "#python program to swap Two veriables\n",
    "a=int(input(\"Enter  Number 1:\"))\n",
    "b=int(input(\"Enter Number 2:\"))\n",
    "temp=a\n",
    "a=b\n",
    "b=temp\n",
    "print(\"Number 1=\",a)\n",
    "print(\"Number 2=\",b)\n"
   ]
  },
  {
   "cell_type": "code",
   "execution_count": 4,
   "id": "4ce8832b",
   "metadata": {},
   "outputs": [
    {
     "name": "stdout",
     "output_type": "stream",
     "text": [
      "Random Number: 87\n"
     ]
    }
   ],
   "source": [
    "#Python program to generate Random Nunber\n",
    "import random\n",
    "print(\"Random Number:\",random.randint(1,100))\n"
   ]
  },
  {
   "cell_type": "markdown",
   "id": "9abadb78",
   "metadata": {},
   "source": [
    "# Set-B"
   ]
  },
  {
   "cell_type": "code",
   "execution_count": 5,
   "id": "ac840b50",
   "metadata": {},
   "outputs": [
    {
     "name": "stdout",
     "output_type": "stream",
     "text": [
      "Enter the Number:12\n",
      "Number is positive\n"
     ]
    }
   ],
   "source": [
    "#Write a Python Program to check Number is POSITIVE or NEGATIVE or ZERO\n",
    "\n",
    "n=int(input(\"Enter the Number:\"))\n",
    "if(n<0):\n",
    "    print(\"Number is Negative\")\n",
    "elif(n>0):\n",
    "        print(\"Number is positive\")\n",
    "else:\n",
    "    print(\"Number is zero\")\n",
    "    "
   ]
  },
  {
   "cell_type": "code",
   "execution_count": 6,
   "id": "60d24131",
   "metadata": {},
   "outputs": [
    {
     "name": "stdout",
     "output_type": "stream",
     "text": [
      "Enter the Number:5\n",
      "Number is Odd\n"
     ]
    }
   ],
   "source": [
    "#Write a program to check the number is EVEN OR ODD\n",
    "\n",
    "n=int(input(\"Enter the Number:\"))\n",
    "if(n%2==0):\n",
    "    print(\"Number is Even\")\n",
    "else:\n",
    "    print(\"Number is Odd\")\n",
    "    "
   ]
  },
  {
   "cell_type": "code",
   "execution_count": 12,
   "id": "aaef25e4",
   "metadata": {},
   "outputs": [
    {
     "name": "stdout",
     "output_type": "stream",
     "text": [
      "Enter the Number:5\n",
      "Number is Prime Number\n"
     ]
    }
   ],
   "source": [
    "#Write a program to check PRIME NUMBER\n",
    "\n",
    "n=int(input(\"Enter the Number:\"))\n",
    "f=0\n",
    "sum=0\n",
    "for i in range(2,n):\n",
    "    if(n%i==0):\n",
    "        f=1\n",
    "        break\n",
    "if(f==0):\n",
    "    print(\"Number is Prime Number\")\n",
    "else:\n",
    "    print(\"Number is not Prime Number\")\n"
   ]
  },
  {
   "cell_type": "code",
   "execution_count": 36,
   "id": "376d91d0",
   "metadata": {},
   "outputs": [
    {
     "name": "stdout",
     "output_type": "stream",
     "text": [
      "Enter the Number:153\n",
      "Number is Armstrong Number\n"
     ]
    }
   ],
   "source": [
    "# Write a python program to check Armstrong Number\n",
    "\n",
    "n=int(input(\"Enter the Number:\"))\n",
    "a=len(str(n))\n",
    "num=n\n",
    "s=0\n",
    "while(n>0):\n",
    "    d=n%10\n",
    "    s=s+d**a\n",
    "    n=n//10\n",
    "if(num==s):\n",
    "    print(\"Number is Armstrong Number\")\n",
    "else:\n",
    "    print(\"Numbre is not armstrong Number\")"
   ]
  },
  {
   "cell_type": "code",
   "execution_count": 42,
   "id": "2097d42e",
   "metadata": {},
   "outputs": [
    {
     "name": "stdout",
     "output_type": "stream",
     "text": [
      "Enter the Number:6\n",
      "Factorial of Number: 720\n"
     ]
    }
   ],
   "source": [
    "# Write a program to find a Factorial of Number\n",
    "\n",
    "n=int(input(\"Enter the Number:\"))\n",
    "f=1\n",
    "for i in range(1,n+1):\n",
    "    f=f*i\n",
    "print(\"Factorial of Number:\",f)\n"
   ]
  },
  {
   "cell_type": "code",
   "execution_count": null,
   "id": "14896702",
   "metadata": {},
   "outputs": [],
   "source": []
  }
 ],
 "metadata": {
  "kernelspec": {
   "display_name": "Python 3 (ipykernel)",
   "language": "python",
   "name": "python3"
  },
  "language_info": {
   "codemirror_mode": {
    "name": "ipython",
    "version": 3
   },
   "file_extension": ".py",
   "mimetype": "text/x-python",
   "name": "python",
   "nbconvert_exporter": "python",
   "pygments_lexer": "ipython3",
   "version": "3.9.7"
  }
 },
 "nbformat": 4,
 "nbformat_minor": 5
}
