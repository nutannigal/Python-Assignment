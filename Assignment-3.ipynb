{
 "cells": [
  {
   "cell_type": "markdown",
   "id": "64aa4ed3",
   "metadata": {},
   "source": [
    "\n",
    "# Set A\n"
   ]
  },
  {
   "cell_type": "markdown",
   "id": "006a14fe",
   "metadata": {},
   "source": [
    "# List"
   ]
  },
  {
   "cell_type": "code",
   "execution_count": 1,
   "id": "78f163c1",
   "metadata": {},
   "outputs": [
    {
     "name": "stdout",
     "output_type": "stream",
     "text": [
      "Sum of Elements in A: 15\n"
     ]
    }
   ],
   "source": [
    "# write a python program to sum all the items in a list.\n",
    "\n",
    "A=[1,2,3,4,5,]\n",
    "B=sum(A)\n",
    "print(\"Sum of Elements in A:\",B)\n"
   ]
  },
  {
   "cell_type": "code",
   "execution_count": 2,
   "id": "27a96d02",
   "metadata": {},
   "outputs": [
    {
     "name": "stdout",
     "output_type": "stream",
     "text": [
      "Multiplication of Elements in A: 120\n"
     ]
    }
   ],
   "source": [
    "# Write apython program to multiplies all the items in a list.\n",
    "\n",
    "#Multiplication of elament in list\n",
    "A=[1,2,3,4,5]\n",
    "B=1\n",
    "for i in A:\n",
    "    B=B*i\n",
    "print(\"Multiplication of Elements in A:\",B)\n"
   ]
  },
  {
   "cell_type": "code",
   "execution_count": 3,
   "id": "a66ac69d",
   "metadata": {},
   "outputs": [
    {
     "name": "stdout",
     "output_type": "stream",
     "text": [
      "after sorting= [(40, 10), (10, 20), (24, 34), (30, 40)]\n"
     ]
    }
   ],
   "source": [
    "# Write a python program to get a list, sorted in increasing order by the last element in each tuple from a given list of \n",
    "#non-empty tuples\n",
    "\n",
    "def last(n):\n",
    "    return n[-1]\n",
    "\n",
    "def incr(list):\n",
    "    return sorted(list,key=last)\n",
    "\n",
    "list=[(10,20),(30,40),(40,10),(24,34)]\n",
    "print(\"after sorting=\",incr(list))\n"
   ]
  },
  {
   "cell_type": "markdown",
   "id": "43628003",
   "metadata": {},
   "source": [
    "# Tuples"
   ]
  },
  {
   "cell_type": "code",
   "execution_count": 4,
   "id": "73a14db7",
   "metadata": {},
   "outputs": [
    {
     "name": "stdout",
     "output_type": "stream",
     "text": [
      "('Vaibhav', 'Bcs', 'shrirampur', 413709)\n"
     ]
    }
   ],
   "source": [
    "#Write a python program to create a tuples.\n",
    "\n",
    "A=(\"Vaibhav\",\"Bcs\",\"shrirampur\",413709)\n",
    "print(A)\n"
   ]
  },
  {
   "cell_type": "code",
   "execution_count": 5,
   "id": "f256f5b9",
   "metadata": {},
   "outputs": [
    {
     "name": "stdout",
     "output_type": "stream",
     "text": [
      "(2, 5, 6, 8, 1, 9, 2, 71, 2)\n",
      "(2.2, 22.5, 22.6, 88.6, 22.01, 33.05)\n",
      "('A', 'B', 'C', 'D', 'E', 'F')\n",
      "('Vaibhav', 'Tushar', 'Aditya', 'Rushi')\n",
      "(1, 'Vaibhav', 'Bcs', 'shrirampur', 413709, 90.6)\n"
     ]
    }
   ],
   "source": [
    "# Write a python program to create a tuple with differnt data types.\n",
    "\n",
    "#Numeric Tupple\n",
    "A=(2,5,6,8,1,9,2,71,2)\n",
    "print(A)\n",
    "#Float Tuple\n",
    "B=(2.2,22.5,22.6,88.6,22.01,33.05)\n",
    "print(B)\n",
    "#Character Tuple\n",
    "C=(\"A\",\"B\",\"C\",\"D\",\"E\",\"F\")\n",
    "print(C)\n",
    "#String Tuple\n",
    "D=(\"Vaibhav\",\"Tushar\",\"Aditya\",\"Rushi\")\n",
    "print(D)\n",
    "#Mixed Tuple\n",
    "E=(1,\"Vaibhav\",\"Bcs\",\"shrirampur\",413709,90.60)\n",
    "print(E)"
   ]
  },
  {
   "cell_type": "code",
   "execution_count": 6,
   "id": "6dadf031",
   "metadata": {},
   "outputs": [
    {
     "name": "stdout",
     "output_type": "stream",
     "text": [
      "elemetnt doesnt exist\n"
     ]
    }
   ],
   "source": [
    "# Write a python program to check whether an element exists within a tuple.\n",
    "\n",
    "t=(1,2,3,4)\n",
    "if(5 in  t):\n",
    "    print(\"elements exit\")\n",
    "else:\n",
    "    print(\"elemetnt doesnt exist\")\n"
   ]
  },
  {
   "cell_type": "markdown",
   "id": "112e4385",
   "metadata": {},
   "source": [
    "# Sets"
   ]
  },
  {
   "cell_type": "code",
   "execution_count": 8,
   "id": "8e52e283",
   "metadata": {},
   "outputs": [
    {
     "name": "stdout",
     "output_type": "stream",
     "text": [
      "{2, 3, 5, 6, 7, 8, 9, 44}\n",
      "{'h', 'f', 'g', 'd', 'c', 'e', 'a', 'b'}\n",
      "{'Tushar', 'Rushi'}\n",
      "{}\n"
     ]
    }
   ],
   "source": [
    "# Write a python program to create a set.\n",
    "\n",
    "A={2,3,5,6,8,9,6,6,7,44}\n",
    "print(A)\n",
    "B={\"a\",\"b\",\"c\",\"d\",\"e\",\"f\",\"g\",\"h\"}\n",
    "print(B)\n",
    "C={\"Rushi\",\"Tushar\"}\n",
    "print(C)\n",
    "#Empty set                                \n",
    "D={}\n",
    "print(D)"
   ]
  },
  {
   "cell_type": "code",
   "execution_count": 10,
   "id": "48b580a7",
   "metadata": {},
   "outputs": [
    {
     "name": "stdout",
     "output_type": "stream",
     "text": [
      "{1, 2, 'Aditya', 'rbnb', (1, 5, 6, 9)}\n",
      "{1, 2, 5, 6, 8, 9, 'rbnb', (1, 5, 6, 9), 'Aditya', 55}\n",
      "{1, 2, 5, 6, 8, 9, 'rbnb', (1, 5, 6, 9), 55}\n",
      "{1, 5, 6, 8, 9, 'rbnb', (1, 5, 6, 9), 55}\n",
      "{1, 2, 99, 66, 5, 6, 8, 9, 'rbnb', (1, 5, 6, 9), 55, 88}\n"
     ]
    }
   ],
   "source": [
    "# Write a python progra to iterate over sets.\n",
    "\n",
    "A={1,2,\"rbnb\",(1,5,6,9),\"Aditya\"}\n",
    "print(A)\n",
    "A.add(55)\n",
    "A.update([5,6,9,8])\n",
    "print(A)\n",
    "A.discard(\"Aditya\")\n",
    "print(A)\n",
    "A.remove(2)\n",
    "print(A)\n",
    "B={99,88,66,55,5,\"rbnb\",2}\n",
    "C=A.union(B)\n",
    "print(C)"
   ]
  },
  {
   "cell_type": "code",
   "execution_count": 16,
   "id": "e34c1f11",
   "metadata": {},
   "outputs": [
    {
     "name": "stdout",
     "output_type": "stream",
     "text": [
      "Set A {32, 1, 2, 4, 5, 6, 586, 85}\n",
      "Set B {32, 1, 2, 5, 8, 15, 82, 85}\n",
      "Set difference between A and B {586, 4, 6}\n"
     ]
    }
   ],
   "source": [
    "#write python program to create set differnt.\n",
    "\n",
    "A={1,32,5,6,2,4,586,85}\n",
    "B={2,5,32,5,1,8,15,15,2,82,85}\n",
    "print(\"Set A\",A)\n",
    "print(\"Set B\",B)\n",
    "C=A.difference(B)\n",
    "print(\"Set difference between A and B\",C)"
   ]
  },
  {
   "cell_type": "markdown",
   "id": "869067b6",
   "metadata": {},
   "source": [
    "# Dictionary"
   ]
  },
  {
   "cell_type": "code",
   "execution_count": 2,
   "id": "bc22e6bc",
   "metadata": {},
   "outputs": [
    {
     "name": "stdout",
     "output_type": "stream",
     "text": [
      "Original dictionary :  {1: 'Java', 2: 'Python', 3: 'PHP', 4: 'Html', 5: 'Data Science'}\n",
      "Dictionary in ascending order by value :  [(5, 'Data Science'), (4, 'Html'), (1, 'Java'), (3, 'PHP'), (2, 'Python')]\n",
      "Dictionary in descending order by value :  {2: 'Python', 3: 'PHP', 1: 'Java', 4: 'Html', 5: 'Data Science'}\n"
     ]
    }
   ],
   "source": [
    "# Write a python script to sort(Ascending and Descending ) a dictionary by value.\n",
    "\n",
    "import operator\n",
    "d = {1: \"Java\", 2: \"Python\", 3: \"PHP\", 4: \"Html\", 5: \"Data Science\"}\n",
    "print('Original dictionary : ',d)\n",
    "sorted_d = sorted(d.items(), key=operator.itemgetter(1))\n",
    "print('Dictionary in ascending order by value : ',sorted_d)\n",
    "sorted_d = dict( sorted(d.items(), key=operator.itemgetter(1),reverse=True))\n",
    "print('Dictionary in descending order by value : ',sorted_d)"
   ]
  },
  {
   "cell_type": "code",
   "execution_count": 1,
   "id": "f6b9ffec",
   "metadata": {},
   "outputs": [
    {
     "name": "stdout",
     "output_type": "stream",
     "text": [
      "Updated A: {'Name': 'Vaibhav', 'Roll NO': 3325, 'add': 'Shrirampur'}\n",
      "Updated after adding 1: {'Name': 'Vaibhav', 'Roll NO': 3325, 'add': 'Shrirampur'}\n"
     ]
    }
   ],
   "source": [
    "# Write a python Script to add key to a dictionary.\n",
    "\n",
    "A={\"Name\":\"Vaibhav\",\"Roll NO\":3325,\"add\":\"Shrirampur\"}\n",
    "A[5]:\"Rbnb college Shriampur\"\n",
    "print(\"Updated A:\",A)\n",
    "A[1]:2589631479630.11346\n",
    "print(\"Updated after adding 1:\",A)"
   ]
  },
  {
   "cell_type": "code",
   "execution_count": 2,
   "id": "d3faa23a",
   "metadata": {},
   "outputs": [
    {
     "name": "stdout",
     "output_type": "stream",
     "text": [
      "name Ravi\n",
      "age 23\n",
      "marks 56\n"
     ]
    }
   ],
   "source": [
    "#Write a progran to iterate over dictionary using function.\n",
    "\n",
    "d1={'name': 'Ravi', 'age': 23, 'marks': 56}\n",
    "for k,v in d1.items():\n",
    "    print (k,v)\n"
   ]
  },
  {
   "cell_type": "markdown",
   "id": "2fc8942f",
   "metadata": {},
   "source": [
    "# Set B\n"
   ]
  },
  {
   "cell_type": "markdown",
   "id": "04765ffb",
   "metadata": {},
   "source": [
    "# List"
   ]
  },
  {
   "cell_type": "code",
   "execution_count": 3,
   "id": "e420c3f7",
   "metadata": {},
   "outputs": [
    {
     "name": "stdout",
     "output_type": "stream",
     "text": [
      "[2, 3, 5, 4, 6, 9, 8, 7]\n"
     ]
    }
   ],
   "source": [
    "#Write a program to remove Duplicates from a list.\n",
    "\n",
    "A=[2,3,5,4,4,4,4,5,5,6,9,8,7,3,2]\n",
    "B=[]\n",
    "for i in A:\n",
    "   if i not in B:\n",
    "       B.append(i)\n",
    "print(B)\n"
   ]
  },
  {
   "cell_type": "code",
   "execution_count": 4,
   "id": "db1d3142",
   "metadata": {},
   "outputs": [
    {
     "name": "stdout",
     "output_type": "stream",
     "text": [
      "List is empty\n"
     ]
    }
   ],
   "source": [
    "# Write a python program to check a list is empty or not.\n",
    "\n",
    "A=[]\n",
    "B=len(A)\n",
    "if(B==0):\n",
    "    print(\"List is empty\")\n",
    "else:\n",
    "    print(\"List contain elemants\")"
   ]
  },
  {
   "cell_type": "markdown",
   "id": "b6030257",
   "metadata": {},
   "source": [
    "# Tuples"
   ]
  },
  {
   "cell_type": "code",
   "execution_count": 5,
   "id": "39b55077",
   "metadata": {},
   "outputs": [
    {
     "name": "stdout",
     "output_type": "stream",
     "text": [
      "(1, 2, 3, 4, 5, 6, 7, 8)\n"
     ]
    }
   ],
   "source": [
    "# Write a python to convert a list to a tuples.\n",
    "\n",
    "def convert(list):\n",
    "    return tuple(list)\n",
    "list = [1,2,3,4,5,6,7,8]\n",
    "print(convert(list))\n"
   ]
  },
  {
   "cell_type": "code",
   "execution_count": 6,
   "id": "c2d33f1a",
   "metadata": {},
   "outputs": [
    {
     "name": "stdout",
     "output_type": "stream",
     "text": [
      "(1, 2, 4, 5)\n"
     ]
    }
   ],
   "source": [
    "#Write a python program to remove an item from a tuple\n",
    "\n",
    "a = (1, 2, 3, 4, 5)\n",
    "b = a[:2] + a[3:]\n",
    "print(b)\n"
   ]
  },
  {
   "cell_type": "code",
   "execution_count": 7,
   "id": "b6635242",
   "metadata": {},
   "outputs": [
    {
     "name": "stdout",
     "output_type": "stream",
     "text": [
      "('a', 'b', 'c', 'd', 'e', 'f')\n",
      "('b', 'd', 'f', 'h')\n",
      "('j', 'h')\n"
     ]
    }
   ],
   "source": [
    "#Write a python program to slice a tuple.\n",
    "\n",
    "A= ('a','b','c','d','e','f','g','h','i','j')\n",
    "print(A[0:6])\n",
    "print(A[1:9:2])\n",
    "print(A[-1:-5:-2])\n"
   ]
  },
  {
   "cell_type": "code",
   "execution_count": 8,
   "id": "ece00550",
   "metadata": {},
   "outputs": [
    {
     "name": "stdout",
     "output_type": "stream",
     "text": [
      "Lenght of tuple is: 10\n"
     ]
    }
   ],
   "source": [
    "# Write a python Program to find the length of tuple.\n",
    "\n",
    "A=(1,2,3,4,5,6,7,8,9,0)\n",
    "print(\"Lenght of tuple is:\",len(A))\n"
   ]
  },
  {
   "cell_type": "markdown",
   "id": "db0495c1",
   "metadata": {},
   "source": [
    "# Sets"
   ]
  },
  {
   "cell_type": "code",
   "execution_count": 16,
   "id": "2fba9d31",
   "metadata": {},
   "outputs": [
    {
     "name": "stdout",
     "output_type": "stream",
     "text": [
      "B is subset of A\n"
     ]
    }
   ],
   "source": [
    "#write a Python program to check if a set is subset of another set.\n",
    "\n",
    "A={1,2,3,4,5,6,7,8,9,0}\n",
    "B={1,2,3,4,5}\n",
    "if(B.issubset(A)):\n",
    "    print(\"B is subset of A\")\n",
    "else:\n",
    "    print(\"B is not Subset of A\")\n",
    "    "
   ]
  },
  {
   "cell_type": "code",
   "execution_count": 1,
   "id": "38d95ce5",
   "metadata": {},
   "outputs": [
    {
     "name": "stdout",
     "output_type": "stream",
     "text": [
      "Maximum value in set is: 95\n",
      "Minimum value in set is: 1\n"
     ]
    }
   ],
   "source": [
    "#Write a python program to find maximum and the minimum value in the set.\n",
    "\n",
    "A={1,88,66,51,95,42,82,69,36,58}\n",
    "B=max(A)   #use max(set) to find maximum element in set \n",
    "C=min(A)   #use min(set) to find minimum element in set\n",
    "print(\"Maximum value in set is:\",B)\n",
    "print(\"Minimum value in set is:\",C)\n",
    "\n"
   ]
  },
  {
   "cell_type": "code",
   "execution_count": 5,
   "id": "b12ebe15",
   "metadata": {},
   "outputs": [
    {
     "name": "stdout",
     "output_type": "stream",
     "text": [
      "Lenght of set A is : 10\n"
     ]
    }
   ],
   "source": [
    "# Write a python program to find a length of set.\n",
    "\n",
    "A={1,2,3,4,5,6,9,8,7,8,9,10}\n",
    "B=len(A)\n",
    "print(\"Lenght of set A is :\",B)\n",
    "#use len(set) function to find lenght of perticular set\n"
   ]
  },
  {
   "cell_type": "markdown",
   "id": "53dd4819",
   "metadata": {},
   "source": [
    "# Dictionary"
   ]
  },
  {
   "cell_type": "code",
   "execution_count": 6,
   "id": "564ea3d4",
   "metadata": {},
   "outputs": [
    {
     "name": "stdout",
     "output_type": "stream",
     "text": [
      "Input a number 12\n",
      "{1: 1, 2: 4, 3: 9, 4: 16, 5: 25, 6: 36, 7: 49, 8: 64, 9: 81, 10: 100, 11: 121, 12: 144}\n"
     ]
    }
   ],
   "source": [
    "# Write a python script to generate and print a dictionary that contains a number (between 1 & n)int the form (x,x*x).\n",
    "\n",
    "n=int(input(\"Input a number \"))\n",
    "dict = dict()\n",
    "\n",
    "for x in range(1,n+1):\n",
    "    dict[x]=x*x\n",
    "\n",
    "print(dict) "
   ]
  },
  {
   "cell_type": "code",
   "execution_count": 8,
   "id": "7216f465",
   "metadata": {},
   "outputs": [
    {
     "name": "stdout",
     "output_type": "stream",
     "text": [
      "{'a': 10, 'b': 20, 'c': 30, 'd': 40}\n"
     ]
    }
   ],
   "source": [
    "# Wirte a python script to merge two python dictionaries.\n",
    "\n",
    "A = {'a': 10, 'b': 20}\n",
    "B = {'c': 30, 'd': 40}\n",
    "A.update(B)\n",
    "print(A)"
   ]
  }
 ],
 "metadata": {
  "kernelspec": {
   "display_name": "Python 3 (ipykernel)",
   "language": "python",
   "name": "python3"
  },
  "language_info": {
   "codemirror_mode": {
    "name": "ipython",
    "version": 3
   },
   "file_extension": ".py",
   "mimetype": "text/x-python",
   "name": "python",
   "nbconvert_exporter": "python",
   "pygments_lexer": "ipython3",
   "version": "3.9.7"
  }
 },
 "nbformat": 4,
 "nbformat_minor": 5
}
